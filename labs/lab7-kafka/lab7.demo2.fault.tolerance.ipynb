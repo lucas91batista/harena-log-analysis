{
 "cells": [
  {
   "cell_type": "markdown",
   "metadata": {},
   "source": [
    "# Let's expand our cluster to three nodes"
   ]
  },
  {
   "cell_type": "markdown",
   "metadata": {},
   "source": [
    "## Generate new config file for each of the brokers"
   ]
  },
  {
   "cell_type": "code",
   "execution_count": null,
   "metadata": {},
   "outputs": [],
   "source": [
    "!cp ${KAFKA_HOME}/config/server.properties ${KAFKA_HOME}/config/server-1.properties\n",
    "!cp ${KAFKA_HOME}/config/server.properties ${KAFKA_HOME}/config/server-2.properties"
   ]
  },
  {
   "cell_type": "code",
   "execution_count": null,
   "metadata": {},
   "outputs": [],
   "source": [
    "!cat ${KAFKA_HOME}/config/server.properties "
   ]
  },
  {
   "cell_type": "code",
   "execution_count": null,
   "metadata": {},
   "outputs": [],
   "source": [
    "!ls ${KAFKA_HOME}/config/"
   ]
  },
  {
   "cell_type": "markdown",
   "metadata": {},
   "source": [
    "## Edit the files and set the following properties:\n",
    "The broker.id property is the unique and permanent name of each node in the cluster. We have to override the port and log directory only because we are running these all on the same machine and we want to keep the brokers from all trying to register on the same port or overwrite each other's data.\n",
    "\n",
    "``` bash\n",
    "config/server-1.properties:\n",
    "    broker.id=1\n",
    "    listeners=PLAINTEXT://:9093\n",
    "    log.dirs=/tmp/kafka-logs-1\n",
    " \n",
    "config/server-2.properties:\n",
    "    broker.id=2\n",
    "    listeners=PLAINTEXT://:9094\n",
    "    log.dirs=/tmp/kafka-logs-2\n",
    "```"
   ]
  },
  {
   "cell_type": "code",
   "execution_count": null,
   "metadata": {},
   "outputs": [],
   "source": [
    "!cp resources/* ${KAFKA_HOME}/config"
   ]
  },
  {
   "cell_type": "markdown",
   "metadata": {},
   "source": [
    "## Starting the 2 new brokers\n",
    "In two terminals:\n",
    "``` bash\n",
    "kafka-server-start.sh ${KAFKA_HOME}/config/server-1.properties\n",
    "kafka-server-start.sh ${KAFKA_HOME}/config/server-2.properties\n",
    "```"
   ]
  },
  {
   "cell_type": "markdown",
   "metadata": {},
   "source": [
    "# Create a new topic\n",
    "Replication-factor now is 3"
   ]
  },
  {
   "cell_type": "code",
   "execution_count": null,
   "metadata": {},
   "outputs": [],
   "source": [
    "!kafka-topics.sh --create --bootstrap-server localhost:9092 --replication-factor 3 --partitions 1 --topic my-replicated-topic"
   ]
  },
  {
   "cell_type": "markdown",
   "metadata": {},
   "source": [
    "# Get information about brokers and topics"
   ]
  },
  {
   "cell_type": "code",
   "execution_count": null,
   "metadata": {},
   "outputs": [],
   "source": [
    "!kafka-topics.sh --describe --bootstrap-server localhost:9092 --topic my-replicated-topic"
   ]
  },
  {
   "cell_type": "markdown",
   "metadata": {},
   "source": [
    "#### \"leader\" is the node responsible for all reads and writes for the given partition. Each node will be the leader for a randomly selected portion of the partitions.\n",
    "\n",
    "#### \"replicas\" is the list of nodes that replicate the log for this partition regardless of whether they are the leader or even if they are currently alive.\n",
    "\n",
    "#### \"isr\" is the set of \"in-sync\" replicas. This is the subset of the replicas list that is currently alive and caught-up to the leader."
   ]
  },
  {
   "cell_type": "code",
   "execution_count": null,
   "metadata": {},
   "outputs": [],
   "source": [
    "!kafka-topics.sh --describe --bootstrap-server localhost:9092 --topic test"
   ]
  },
  {
   "cell_type": "markdown",
   "metadata": {},
   "source": [
    "# Publish some messages\n",
    "In a terminal\n",
    "```bash\n",
    "kafka-console-producer.sh --broker-list localhost:9092 --topic my-replicated-topic\n",
    "```"
   ]
  },
  {
   "cell_type": "markdown",
   "metadata": {},
   "source": [
    "# Consuming messages"
   ]
  },
  {
   "cell_type": "code",
   "execution_count": null,
   "metadata": {},
   "outputs": [],
   "source": [
    "# You have to stop this cell before continue\n",
    "!kafka-console-consumer.sh --bootstrap-server localhost:9092 --from-beginning --topic my-replicated-topic"
   ]
  },
  {
   "cell_type": "markdown",
   "metadata": {},
   "source": [
    "# Killing the leader"
   ]
  },
  {
   "cell_type": "code",
   "execution_count": null,
   "metadata": {},
   "outputs": [],
   "source": [
    "!ps aux | grep server.properties"
   ]
  },
  {
   "cell_type": "code",
   "execution_count": null,
   "metadata": {},
   "outputs": [],
   "source": [
    "!kill -9 <leaderProcessID>"
   ]
  },
  {
   "cell_type": "markdown",
   "metadata": {},
   "source": [
    "# Get information about brokers and topics"
   ]
  },
  {
   "cell_type": "code",
   "execution_count": null,
   "metadata": {},
   "outputs": [],
   "source": [
    "#Consulting a new broker, port:9093\n",
    "!kafka-topics.sh --describe --bootstrap-server localhost:9093 --topic my-replicated-topic"
   ]
  },
  {
   "cell_type": "markdown",
   "metadata": {},
   "source": [
    "#### Leadership has switched to one of the followers and the node killed is no longer in the in-sync replica set."
   ]
  },
  {
   "cell_type": "markdown",
   "metadata": {},
   "source": [
    "# Messages are still available for consumption even though the leader that took the writes originally is down"
   ]
  },
  {
   "cell_type": "code",
   "execution_count": null,
   "metadata": {},
   "outputs": [],
   "source": [
    "!kafka-console-consumer.sh --bootstrap-server localhost:9093 --from-beginning --topic my-replicated-topic"
   ]
  },
  {
   "cell_type": "code",
   "execution_count": null,
   "metadata": {},
   "outputs": [],
   "source": []
  }
 ],
 "metadata": {
  "kernelspec": {
   "display_name": "Python 3",
   "language": "python",
   "name": "python3"
  },
  "language_info": {
   "codemirror_mode": {
    "name": "ipython",
    "version": 3
   },
   "file_extension": ".py",
   "mimetype": "text/x-python",
   "name": "python",
   "nbconvert_exporter": "python",
   "pygments_lexer": "ipython3",
   "version": "3.7.3"
  }
 },
 "nbformat": 4,
 "nbformat_minor": 2
}
